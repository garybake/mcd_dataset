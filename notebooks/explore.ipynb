{
 "cells": [
  {
   "cell_type": "code",
   "execution_count": 1,
   "id": "789d0bc7-b76f-472f-888e-5802b6de04fa",
   "metadata": {},
   "outputs": [],
   "source": [
    "import numpy as np\n",
    "import geopandas as gpd\n",
    "from shapely.geometry import Point\n",
    "import matplotlib.pyplot as plt"
   ]
  },
  {
   "cell_type": "code",
   "execution_count": 5,
   "id": "9f29b887-0ba9-4e71-8390-9373d502792c",
   "metadata": {},
   "outputs": [],
   "source": [
    "# import shapely\n",
    "import warnings\n",
    "from shapely.errors import ShapelyDeprecationWarning\n",
    "warnings.filterwarnings(\"ignore\", category=ShapelyDeprecationWarning) "
   ]
  },
  {
   "cell_type": "code",
   "execution_count": 6,
   "id": "72c9314f-1919-4d1f-b9a7-2813127b3d16",
   "metadata": {},
   "outputs": [],
   "source": [
    "world = gpd.read_file(gpd.datasets.get_path('naturalearth_lowres'))"
   ]
  },
  {
   "cell_type": "code",
   "execution_count": 7,
   "id": "ed10fa2d-f68d-463e-b02b-31d3b42caefb",
   "metadata": {},
   "outputs": [],
   "source": [
    "gdf = gpd.read_file(r'D:\\tmp\\mcd.shp')"
   ]
  },
  {
   "cell_type": "code",
   "execution_count": 14,
   "id": "898f93ae-33ce-412e-a904-23b328f688f0",
   "metadata": {},
   "outputs": [
    {
     "data": {
      "text/plain": [
       "['USA', 'CA', 'UK', 'DE']"
      ]
     },
     "execution_count": 14,
     "metadata": {},
     "output_type": "execute_result"
    }
   ],
   "source": [
    "gdf['country'].unique().tolist()"
   ]
  },
  {
   "cell_type": "code",
   "execution_count": 21,
   "id": "af16bd00-0647-4d56-9a7a-c4f8ff0f2b99",
   "metadata": {},
   "outputs": [
    {
     "data": {
      "text/html": [
       "<div>\n",
       "<style scoped>\n",
       "    .dataframe tbody tr th:only-of-type {\n",
       "        vertical-align: middle;\n",
       "    }\n",
       "\n",
       "    .dataframe tbody tr th {\n",
       "        vertical-align: top;\n",
       "    }\n",
       "\n",
       "    .dataframe thead th {\n",
       "        text-align: right;\n",
       "    }\n",
       "</style>\n",
       "<table border=\"1\" class=\"dataframe\">\n",
       "  <thead>\n",
       "    <tr style=\"text-align: right;\">\n",
       "      <th></th>\n",
       "      <th>is_broken</th>\n",
       "      <th>is_active</th>\n",
       "      <th>dot</th>\n",
       "      <th>state</th>\n",
       "      <th>city</th>\n",
       "      <th>street</th>\n",
       "      <th>country</th>\n",
       "      <th>last_check</th>\n",
       "      <th>geometry</th>\n",
       "    </tr>\n",
       "  </thead>\n",
       "  <tbody>\n",
       "    <tr>\n",
       "      <th>15204</th>\n",
       "      <td>0</td>\n",
       "      <td>1</td>\n",
       "      <td>inactive</td>\n",
       "      <td>None</td>\n",
       "      <td>Westminster</td>\n",
       "      <td>45/47 Whitehall</td>\n",
       "      <td>UK</td>\n",
       "      <td>Checked 42689 minutes ago</td>\n",
       "      <td>POINT (-0.12696 51.50624)</td>\n",
       "    </tr>\n",
       "    <tr>\n",
       "      <th>15205</th>\n",
       "      <td>1</td>\n",
       "      <td>1</td>\n",
       "      <td>broken</td>\n",
       "      <td>None</td>\n",
       "      <td>Westminster</td>\n",
       "      <td>34/35 Strand</td>\n",
       "      <td>UK</td>\n",
       "      <td>Checked 10 minutes ago</td>\n",
       "      <td>POINT (-0.12442 51.50907)</td>\n",
       "    </tr>\n",
       "    <tr>\n",
       "      <th>15206</th>\n",
       "      <td>0</td>\n",
       "      <td>1</td>\n",
       "      <td>working</td>\n",
       "      <td>None</td>\n",
       "      <td>City Of Westminster</td>\n",
       "      <td>48 Leicester Square</td>\n",
       "      <td>UK</td>\n",
       "      <td>Checked 10 minutes ago</td>\n",
       "      <td>POINT (-0.13070 51.51018)</td>\n",
       "    </tr>\n",
       "    <tr>\n",
       "      <th>15207</th>\n",
       "      <td>0</td>\n",
       "      <td>1</td>\n",
       "      <td>inactive</td>\n",
       "      <td>None</td>\n",
       "      <td>Westminster</td>\n",
       "      <td>68/69 St Martins Lane</td>\n",
       "      <td>UK</td>\n",
       "      <td>Checked 68621 minutes ago</td>\n",
       "      <td>POINT (-0.12709 51.51152)</td>\n",
       "    </tr>\n",
       "    <tr>\n",
       "      <th>15208</th>\n",
       "      <td>0</td>\n",
       "      <td>0</td>\n",
       "      <td>inactive</td>\n",
       "      <td>None</td>\n",
       "      <td>Westminster</td>\n",
       "      <td>25/27 Shaftesbury Avenue</td>\n",
       "      <td>UK</td>\n",
       "      <td>Checked 193569 minutes ago</td>\n",
       "      <td>POINT (-0.13384 51.51100)</td>\n",
       "    </tr>\n",
       "  </tbody>\n",
       "</table>\n",
       "</div>"
      ],
      "text/plain": [
       "       is_broken  is_active       dot state                 city  \\\n",
       "15204          0          1  inactive  None          Westminster   \n",
       "15205          1          1    broken  None          Westminster   \n",
       "15206          0          1   working  None  City Of Westminster   \n",
       "15207          0          1  inactive  None          Westminster   \n",
       "15208          0          0  inactive  None          Westminster   \n",
       "\n",
       "                         street country                  last_check  \\\n",
       "15204           45/47 Whitehall      UK   Checked 42689 minutes ago   \n",
       "15205              34/35 Strand      UK      Checked 10 minutes ago   \n",
       "15206       48 Leicester Square      UK      Checked 10 minutes ago   \n",
       "15207     68/69 St Martins Lane      UK   Checked 68621 minutes ago   \n",
       "15208  25/27 Shaftesbury Avenue      UK  Checked 193569 minutes ago   \n",
       "\n",
       "                        geometry  \n",
       "15204  POINT (-0.12696 51.50624)  \n",
       "15205  POINT (-0.12442 51.50907)  \n",
       "15206  POINT (-0.13070 51.51018)  \n",
       "15207  POINT (-0.12709 51.51152)  \n",
       "15208  POINT (-0.13384 51.51100)  "
      ]
     },
     "execution_count": 21,
     "metadata": {},
     "output_type": "execute_result"
    }
   ],
   "source": [
    "gdf_uk = gdf[gdf.country == 'UK']\n",
    "gdf_uk.head()"
   ]
  },
  {
   "cell_type": "code",
   "execution_count": 22,
   "id": "3d0b17f6-c841-4cbb-b02d-d3567e686c6a",
   "metadata": {},
   "outputs": [
    {
     "data": {
      "text/plain": [
       "1338"
      ]
     },
     "execution_count": 22,
     "metadata": {},
     "output_type": "execute_result"
    }
   ],
   "source": [
    "len(gdf_uk)"
   ]
  },
  {
   "cell_type": "code",
   "execution_count": 23,
   "id": "a21ace57-c046-46f9-9636-a044c7170664",
   "metadata": {},
   "outputs": [
    {
     "data": {
      "image/png": "[encoded data removed]",
      "text/plain": [
       "<Figure size 432x288 with 1 Axes>"
      ]
     },
     "metadata": {
      "needs_background": "light"
     },
     "output_type": "display_data"
    }
   ],
   "source": [
    "ax = world[world.name == 'United Kingdom'].plot(color='white', edgecolor='black')\n",
    "gdf_uk.plot(ax=ax, color='red')\n",
    "plt.show()"
   ]
  },
  {
   "cell_type": "code",
   "execution_count": null,
   "id": "02b41d90-9ff4-484e-b20e-6aefc2d8c132",
   "metadata": {},
   "outputs": [],
   "source": []
  }
 ],
 "metadata": {
  "kernelspec": {
   "display_name": "Python 3 (ipykernel)",
   "language": "python",
   "name": "python3"
  },
  "language_info": {
   "codemirror_mode": {
    "name": "ipython",
    "version": 3
   },
   "file_extension": ".py",
   "mimetype": "text/x-python",
   "name": "python",
   "nbconvert_exporter": "python",
   "pygments_lexer": "ipython3",
   "version": "3.9.1"
  }
 },
 "nbformat": 4,
 "nbformat_minor": 5
}
